{
 "cells": [
  {
   "cell_type": "code",
   "execution_count": 1,
   "metadata": {
    "collapsed": true
   },
   "outputs": [],
   "source": [
    "import torch\n",
    "import math\n",
    "from torch import nn, Tensor\n",
    "\n",
    "from positional_encoder import models, utils\n",
    "\n",
    "# device = torch.device('cuda' if torch.cuda.is_available() else 'cpu')\n",
    "device = torch.device('cpu')"
   ]
  },
  {
   "cell_type": "code",
   "execution_count": 2,
   "outputs": [],
   "source": [
    "train_batch_size = 20\n",
    "eval_batch_size = 10\n",
    "train_data, val_data, test_data, vocab = utils.get_wikitext2_data(train_batch_size, eval_batch_size, device=device)"
   ],
   "metadata": {
    "collapsed": false
   }
  },
  {
   "cell_type": "code",
   "execution_count": 12,
   "outputs": [
    {
     "name": "stdout",
     "output_type": "stream",
     "text": [
      "Training Data: torch.Size([102499, 20])\n",
      "Validation Data: torch.Size([21441, 10])\n",
      "Test Data: torch.Size([24185, 10])\n"
     ]
    }
   ],
   "source": [
    "print(f'Training Data: {train_data.size()}')\n",
    "print(f'Validation Data: {val_data.size()}')\n",
    "print(f'Test Data: {test_data.size()}')"
   ],
   "metadata": {
    "collapsed": false
   }
  },
  {
   "cell_type": "code",
   "execution_count": 11,
   "outputs": [
    {
     "name": "stdout",
     "output_type": "stream",
     "text": [
      "tokens:\n",
      "tensor([    8,  5790,   299,    12,   575,   232,    67,   452,    19, 13722,\n",
      "            5,   757,     3,  2500,    17])\n",
      "words:\n",
      "['a', 'tactical', 'role', '@-@', 'playing', 'video', 'game', 'developed', 'by', 'sega', 'and', 'media', '.', 'vision', 'for']\n"
     ]
    }
   ],
   "source": [
    "idxs, batch = list(range(35,50)), 0\n",
    "tokens = train_data[idxs, batch]\n",
    "words = [vocab.lookup_token(token) for token in tokens]\n",
    "\n",
    "print(f'tokens:\\n{tokens}')\n",
    "print(f'words:\\n{words}')"
   ],
   "metadata": {
    "collapsed": false
   }
  },
  {
   "cell_type": "code",
   "execution_count": null,
   "outputs": [],
   "source": [
    "class SinceCosTextEncoder(nn.Module):\n",
    "    def __init__(self, n_tokens: int, d_model: int, init_range=0.1):\n",
    "        super()._init__()\n",
    "        self.encoder = nn.Embedding(n_tokens, d_model)\n",
    "        self.encoder.weight.data.uniform_(-init_range, init_range)\n",
    "\n",
    "    def forward(self, src: Tensor):\n",
    "        \"\"\"\n",
    "        Arguments:\n",
    "            src: Tensor, shape ``[seq_len, batch_size]``\n",
    "        \"\"\"\n",
    "        return self.encoder(src) * math.sqrt(self.d_model)\n",
    "\n",
    "\n",
    "class SineCosinePosEncoder(nn.Module):\n",
    "\n",
    "    def __init__(self, d_model: int, dropout: float = 0.1, max_seq_len: int = 5000):\n",
    "        super().__init__()\n",
    "\n",
    "        ############# YOUR CODE HERE #############\n",
    "        position = torch.arange(max_seq_len).unsqueeze(1)\n",
    "        div_term = torch.exp(torch.arange(0, d_model, 2) * (-math.log(10000.0) / d_model))\n",
    "        positional_encoding = torch.zeros(max_seq_len, 1, d_model)\n",
    "        positional_encoding[:, 0, 0::2] = torch.sin(position * div_term)\n",
    "        positional_encoding[:, 0, 1::2] = torch.cos(position * div_term)\n",
    "        ##########################################\n",
    "\n",
    "        self.register_buffer('positional_encoding', positional_encoding)\n",
    "        self.dropout = nn.Dropout(p=dropout)\n",
    "\n",
    "    def forward(self, x: Tensor) -> Tensor:\n",
    "        \"\"\"\n",
    "        Arguments:\n",
    "            x: Tensor, shape ``[seq_len, batch_size, embedding_dim]``\n",
    "        \"\"\"\n",
    "        x = x + self.positional_encoding[:x.size(0)]\n",
    "        return self.dropout(x)"
   ],
   "metadata": {
    "collapsed": false
   }
  },
  {
   "cell_type": "markdown",
   "source": [
    "## Training Model"
   ],
   "metadata": {
    "collapsed": false
   }
  },
  {
   "cell_type": "code",
   "execution_count": 10,
   "outputs": [],
   "source": [
    "n_tokens = len(vocab)  # size of vocabulary\n",
    "d_model = 200  # embedding dimension\n",
    "d_hid = 200  # dimension of the feedforward network model in ``nn.TransformerEncoder``\n",
    "num_layers = 2  # number of ``nn.TransformerEncoderLayer`` in ``nn.TransformerEncoder``\n",
    "nhead = 2  # number of heads in ``nn.MultiheadAttention``\n",
    "dropout = 0.2  # dropout probability\n",
    "model = models.TransformerModel(n_tokens, d_model, nhead, d_hid, num_layers, dropout).to(device)"
   ],
   "metadata": {
    "collapsed": false
   }
  },
  {
   "cell_type": "code",
   "execution_count": 11,
   "outputs": [
    {
     "name": "stdout",
     "output_type": "stream",
     "text": [
      "/home/rogerio/PycharmProjects\n"
     ]
    }
   ],
   "source": [],
   "metadata": {
    "collapsed": false
   }
  },
  {
   "cell_type": "code",
   "execution_count": null,
   "outputs": [],
   "source": [],
   "metadata": {
    "collapsed": false
   }
  }
 ],
 "metadata": {
  "kernelspec": {
   "display_name": "Python 3",
   "language": "python",
   "name": "python3"
  },
  "language_info": {
   "codemirror_mode": {
    "name": "ipython",
    "version": 2
   },
   "file_extension": ".py",
   "mimetype": "text/x-python",
   "name": "python",
   "nbconvert_exporter": "python",
   "pygments_lexer": "ipython2",
   "version": "2.7.6"
  }
 },
 "nbformat": 4,
 "nbformat_minor": 0
}
